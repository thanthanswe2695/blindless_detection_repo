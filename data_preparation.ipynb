{
 "cells": [
  {
   "cell_type": "code",
   "execution_count": 1,
   "metadata": {},
   "outputs": [],
   "source": [
    "import numpy as np # linear algebra\n",
    "import pandas as pd # data processing, CSV file I/O (e.g. pd.read_csv)\n",
    "\n",
    "import shutil\n",
    "import sys\n",
    "import os"
   ]
  },
  {
   "cell_type": "code",
   "execution_count": 2,
   "metadata": {},
   "outputs": [
    {
     "name": "stdout",
     "output_type": "stream",
     "text": [
      "(3662, 2)\n",
      "(1928, 1)\n"
     ]
    },
    {
     "data": {
      "text/html": [
       "<div>\n",
       "<style scoped>\n",
       "    .dataframe tbody tr th:only-of-type {\n",
       "        vertical-align: middle;\n",
       "    }\n",
       "\n",
       "    .dataframe tbody tr th {\n",
       "        vertical-align: top;\n",
       "    }\n",
       "\n",
       "    .dataframe thead th {\n",
       "        text-align: right;\n",
       "    }\n",
       "</style>\n",
       "<table border=\"1\" class=\"dataframe\">\n",
       "  <thead>\n",
       "    <tr style=\"text-align: right;\">\n",
       "      <th></th>\n",
       "      <th>id_code</th>\n",
       "    </tr>\n",
       "  </thead>\n",
       "  <tbody>\n",
       "    <tr>\n",
       "      <th>0</th>\n",
       "      <td>0005cfc8afb6</td>\n",
       "    </tr>\n",
       "    <tr>\n",
       "      <th>1</th>\n",
       "      <td>003f0afdcd15</td>\n",
       "    </tr>\n",
       "    <tr>\n",
       "      <th>2</th>\n",
       "      <td>006efc72b638</td>\n",
       "    </tr>\n",
       "    <tr>\n",
       "      <th>3</th>\n",
       "      <td>00836aaacf06</td>\n",
       "    </tr>\n",
       "    <tr>\n",
       "      <th>4</th>\n",
       "      <td>009245722fa4</td>\n",
       "    </tr>\n",
       "  </tbody>\n",
       "</table>\n",
       "</div>"
      ],
      "text/plain": [
       "        id_code\n",
       "0  0005cfc8afb6\n",
       "1  003f0afdcd15\n",
       "2  006efc72b638\n",
       "3  00836aaacf06\n",
       "4  009245722fa4"
      ]
     },
     "execution_count": 2,
     "metadata": {},
     "output_type": "execute_result"
    }
   ],
   "source": [
    "train_df = pd.read_csv('aptos2019-blindness-detection/train.csv')\n",
    "test_df = pd.read_csv('aptos2019-blindness-detection/test.csv')\n",
    "print(train_df.shape)\n",
    "print(test_df.shape)\n",
    "test_df.head()"
   ]
  },
  {
   "cell_type": "code",
   "execution_count": 3,
   "metadata": {},
   "outputs": [],
   "source": [
    "list_0=[]\n",
    "for a in train_df[train_df['diagnosis']==0]['id_code']:\n",
    "    list_0.append(a)\n",
    "list_1=[]\n",
    "for b in train_df[train_df['diagnosis']==1]['id_code']:\n",
    "    list_1.append(b)\n",
    "list_2=[]\n",
    "for c in train_df[train_df['diagnosis']==2]['id_code']:\n",
    "    list_2.append(c)\n",
    "list_3=[]\n",
    "for d in train_df[train_df['diagnosis']==3]['id_code']:\n",
    "    list_3.append(d)\n",
    "list_4=[]\n",
    "for e in train_df[train_df['diagnosis']==4]['id_code']:\n",
    "    list_4.append(e)"
   ]
  },
  {
   "cell_type": "code",
   "execution_count": 4,
   "metadata": {},
   "outputs": [],
   "source": [
    "train_dir = \"/home/curiousgirl/Desktop/blindless_detection/blindness_problem/APTOS-Blindness-Detection-Kaggle/aptos2019-blindness-detection/train_images/\"\n",
    "\n",
    "if not os.path.exists(\"train_split\" + \"4\"):\n",
    "        os.mkdir(\"train_split\" + \"4\")\n",
    "for i in list_4:\n",
    "    src_path = train_dir+ i + \".png\"\n",
    "    dst_path = \"train_split\" + \"4\" + \"/\" + i + \".png\"\n",
    "    shutil.copy(src_path, dst_path)"
   ]
  },
  {
   "cell_type": "code",
   "execution_count": 5,
   "metadata": {},
   "outputs": [],
   "source": [
    "train_dir = \"/home/curiousgirl/Desktop/blindless_detection/blindness_problem/APTOS-Blindness-Detection-Kaggle/aptos2019-blindness-detection/train_images/\"\n",
    "if not os.path.exists(\"train_split\" + \"3\"):\n",
    "        os.mkdir(\"train_split\" + \"3\")\n",
    "for i in list_3:\n",
    "    src_path = train_dir + i + \".png\"\n",
    "    dst_path = \"train_split\" + \"3\" + \"/\" + i + \".png\"\n",
    "    shutil.copy(src_path, dst_path)"
   ]
  },
  {
   "cell_type": "code",
   "execution_count": 6,
   "metadata": {},
   "outputs": [],
   "source": [
    "train_dir = \"/home/curiousgirl/Desktop/blindless_detection/blindness_problem/APTOS-Blindness-Detection-Kaggle/aptos2019-blindness-detection/train_images/\"\n",
    "if not os.path.exists(\"train_split\" + \"2\"):\n",
    "        os.mkdir(\"train_split\" + \"2\")\n",
    "for i in list_2:\n",
    "    src_path = train_dir + i + \".png\"\n",
    "    dst_path = \"train_split\" + \"2\" + \"/\" + i + \".png\"\n",
    "    shutil.copy(src_path, dst_path)"
   ]
  },
  {
   "cell_type": "code",
   "execution_count": 7,
   "metadata": {},
   "outputs": [],
   "source": [
    "train_dir = \"/home/curiousgirl/Desktop/blindless_detection/blindness_problem/APTOS-Blindness-Detection-Kaggle/aptos2019-blindness-detection/train_images/\"\n",
    "if not os.path.exists(\"train_split\" + \"1\"):\n",
    "        os.mkdir(\"train_split\" + \"1\")\n",
    "for i in list_1:\n",
    "    src_path = train_dir + i + \".png\"\n",
    "    dst_path = \"train_split\" + \"1\" + \"/\" + i + \".png\"\n",
    "    shutil.copy(src_path, dst_path)"
   ]
  },
  {
   "cell_type": "code",
   "execution_count": 8,
   "metadata": {},
   "outputs": [],
   "source": [
    "train_dir = \"/home/curiousgirl/Desktop/blindless_detection/blindness_problem/APTOS-Blindness-Detection-Kaggle/aptos2019-blindness-detection/train_images/\"\n",
    "if not os.path.exists(\"train_split\" + \"0\"):\n",
    "        os.mkdir(\"train_split\" + \"0\")\n",
    "for i in list_0:\n",
    "    src_path = train_dir + i + \".png\"\n",
    "    dst_path = \"train_split\" + \"0\" + \"/\" + i + \".png\"\n",
    "    shutil.copy(src_path, dst_path)"
   ]
  },
  {
   "cell_type": "code",
   "execution_count": 9,
   "metadata": {},
   "outputs": [
    {
     "name": "stderr",
     "output_type": "stream",
     "text": [
      "Copying files: 3662 files [06:05, 10.02 files/s]\n"
     ]
    }
   ],
   "source": [
    "import split_folders\n",
    "input='/home/curiousgirl/Desktop/blindless_detection/blindness_problem/APTOS-Blindness-Detection-Kaggle/aptos2019-blindness-detection/train'\n",
    "output='/home/curiousgirl/Desktop/blindless_detection/blindness_problem/APTOS-Blindness-Detection-Kaggle/aptos2019-blindness-detection/final_data'\n",
    "split_folders.ratio(input, output=output, seed=1337, ratio=(.8, .1, .1))"
   ]
  },
  {
   "cell_type": "code",
   "execution_count": null,
   "metadata": {},
   "outputs": [],
   "source": []
  }
 ],
 "metadata": {
  "kernelspec": {
   "display_name": "Python 3",
   "language": "python",
   "name": "python3"
  },
  "language_info": {
   "codemirror_mode": {
    "name": "ipython",
    "version": 3
   },
   "file_extension": ".py",
   "mimetype": "text/x-python",
   "name": "python",
   "nbconvert_exporter": "python",
   "pygments_lexer": "ipython3",
   "version": "3.7.3"
  }
 },
 "nbformat": 4,
 "nbformat_minor": 2
}
